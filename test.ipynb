{
 "cells": [
  {
   "cell_type": "code",
   "execution_count": 4,
   "metadata": {},
   "outputs": [],
   "source": [
    "import torch\n",
    "import torchaudio\n",
    "\n"
   ]
  },
  {
   "cell_type": "code",
   "execution_count": 14,
   "metadata": {},
   "outputs": [
    {
     "ename": "RuntimeError",
     "evalue": "istft(CPUComplexFloatType[1, 513, 1018], n_fft=1024, hop_length=160, win_length=1024, window=torch.FloatTensor{[1024]}, center=0, normalized=0, onesided=None, length=None, return_complex=0) window overlap add min: 1\n[ CPUBoolType{} ]",
     "output_type": "error",
     "traceback": [
      "\u001b[0;31m---------------------------------------------------------------------------\u001b[0m",
      "\u001b[0;31mRuntimeError\u001b[0m                              Traceback (most recent call last)",
      "Cell \u001b[0;32mIn[14], line 34\u001b[0m\n\u001b[1;32m     29\u001b[0m x \u001b[38;5;241m=\u001b[39m torch\u001b[38;5;241m.\u001b[39mrandn((\u001b[38;5;241m1\u001b[39m,\u001b[38;5;241m163840\u001b[39m))\n\u001b[1;32m     30\u001b[0m x_stft \u001b[38;5;241m=\u001b[39m torch\u001b[38;5;241m.\u001b[39mstft(x, n_fft\u001b[38;5;241m=\u001b[39m\u001b[38;5;241m1024\u001b[39m, hop_length\u001b[38;5;241m=\u001b[39m\u001b[38;5;241m160\u001b[39m, win_length\u001b[38;5;241m=\u001b[39m\u001b[38;5;241m1024\u001b[39m, window\u001b[38;5;241m=\u001b[39mtorch\u001b[38;5;241m.\u001b[39mhann_window(\u001b[38;5;241m1024\u001b[39m), return_complex\u001b[38;5;241m=\u001b[39m\u001b[38;5;28;01mTrue\u001b[39;00m,\n\u001b[1;32m     31\u001b[0m     center\u001b[38;5;241m=\u001b[39m\u001b[38;5;28;01mFalse\u001b[39;00m,\n\u001b[1;32m     32\u001b[0m     pad_mode\u001b[38;5;241m=\u001b[39m\u001b[38;5;124m\"\u001b[39m\u001b[38;5;124mreflect\u001b[39m\u001b[38;5;124m\"\u001b[39m,\n\u001b[1;32m     33\u001b[0m )\n\u001b[0;32m---> 34\u001b[0m x_reconstruct \u001b[38;5;241m=\u001b[39m \u001b[43mtorch\u001b[49m\u001b[38;5;241;43m.\u001b[39;49m\u001b[43mistft\u001b[49m\u001b[43m(\u001b[49m\u001b[43mx_stft\u001b[49m\u001b[43m,\u001b[49m\u001b[43m \u001b[49m\u001b[43mn_fft\u001b[49m\u001b[38;5;241;43m=\u001b[39;49m\u001b[38;5;241;43m1024\u001b[39;49m\u001b[43m,\u001b[49m\u001b[43m \u001b[49m\u001b[43mhop_length\u001b[49m\u001b[38;5;241;43m=\u001b[39;49m\u001b[38;5;241;43m160\u001b[39;49m\u001b[43m,\u001b[49m\u001b[43m \u001b[49m\n\u001b[1;32m     35\u001b[0m \u001b[43mwin_length\u001b[49m\u001b[38;5;241;43m=\u001b[39;49m\u001b[38;5;241;43m1024\u001b[39;49m\u001b[43m,\u001b[49m\u001b[43m \u001b[49m\u001b[43mwindow\u001b[49m\u001b[38;5;241;43m=\u001b[39;49m\u001b[43mtorch\u001b[49m\u001b[38;5;241;43m.\u001b[39;49m\u001b[43mhann_window\u001b[49m\u001b[43m(\u001b[49m\u001b[38;5;241;43m1024\u001b[39;49m\u001b[43m)\u001b[49m\u001b[43m,\u001b[49m\u001b[43m \u001b[49m\u001b[43mreturn_complex\u001b[49m\u001b[38;5;241;43m=\u001b[39;49m\u001b[38;5;28;43;01mFalse\u001b[39;49;00m\u001b[43m,\u001b[49m\n\u001b[1;32m     36\u001b[0m \u001b[43m    \u001b[49m\u001b[43mcenter\u001b[49m\u001b[38;5;241;43m=\u001b[39;49m\u001b[38;5;28;43;01mFalse\u001b[39;49;00m\u001b[43m,\u001b[49m\n\u001b[1;32m     37\u001b[0m \u001b[43m)\u001b[49m\n\u001b[1;32m     39\u001b[0m \u001b[38;5;28mprint\u001b[39m(x[:\u001b[38;5;241m10\u001b[39m])\n\u001b[1;32m     40\u001b[0m \u001b[38;5;28mprint\u001b[39m(x_reconstruct[:\u001b[38;5;241m10\u001b[39m])\n",
      "\u001b[0;31mRuntimeError\u001b[0m: istft(CPUComplexFloatType[1, 513, 1018], n_fft=1024, hop_length=160, win_length=1024, window=torch.FloatTensor{[1024]}, center=0, normalized=0, onesided=None, length=None, return_complex=0) window overlap add min: 1\n[ CPUBoolType{} ]"
     ]
    }
   ],
   "source": [
    "'''\n",
    "        self.melbins = 64     # 중복\n",
    "        self.sampling_rate = 16000  # 중복\n",
    "        self.hopsize = 160    # 중복\n",
    "        # self.duration = 10.24\n",
    "        self.duration = 10.24\n",
    "        self.target_length = 1024\n",
    "        self.mixup = 0.0\n",
    "\n",
    "        self.mel_basis = {}\n",
    "        self.hann_window = {}\n",
    "\n",
    "        # DSP: s-full 기준 (audioldm_original.yaml)\n",
    "        self.filter_length = 1024\n",
    "        self.hop_length = 160\n",
    "        self.win_length = 1024\n",
    "        self.n_mel = 64\n",
    "        self.mel_fmin = 0\n",
    "        self.mel_fmax = 8000\n",
    "\n",
    "        self.n_freq = self.filter_length // 2 + 1  # 513\n",
    "        self.sample_length = self.sampling_rate * self.duration  # 163840\n",
    "        self.pad_size = int((self.filter_length - self.hop_length) / 2)  # (1024-160)/2 = 432\n",
    "        self.n_times =  # 123\n",
    "        '''\n",
    "\n",
    "\n",
    "\n",
    "x = torch.randn((1,163840))\n",
    "x_stft = torch.stft(x, n_fft=1024, hop_length=160, win_length=1024, window=torch.hann_window(1024), return_complex=True,\n",
    "    center=False,\n",
    "    pad_mode=\"reflect\",\n",
    ")\n",
    "x_reconstruct = torch.istft(x_stft, n_fft=1024, hop_length=160, \n",
    "win_length=1024, window=torch.hann_window(1024), return_complex=False,\n",
    "    center=False,\n",
    ")\n",
    "\n",
    "print(x[:10])\n",
    "print(x_reconstruct[:10])\n",
    "\n"
   ]
  },
  {
   "cell_type": "code",
   "execution_count": null,
   "metadata": {},
   "outputs": [],
   "source": []
  }
 ],
 "metadata": {
  "kernelspec": {
   "display_name": "pkboo",
   "language": "python",
   "name": "python3"
  },
  "language_info": {
   "codemirror_mode": {
    "name": "ipython",
    "version": 3
   },
   "file_extension": ".py",
   "mimetype": "text/x-python",
   "name": "python",
   "nbconvert_exporter": "python",
   "pygments_lexer": "ipython3",
   "version": "3.10.12"
  }
 },
 "nbformat": 4,
 "nbformat_minor": 2
}
